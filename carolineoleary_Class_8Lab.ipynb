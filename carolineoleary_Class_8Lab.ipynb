{
  "cells": [
    {
      "cell_type": "markdown",
      "metadata": {
        "id": "Wfi84Zxq5yTM"
      },
      "source": [
        "# Diamond Company Analytics Challenge\n",
        "\n",
        "**Time:** 35 minutes\n",
        "\n",
        "**Scenario:** You are the new data analyst at a prestigious diamond company. The CEO has called an urgent meeting and needs answers to critical business questions about the inventory.\n",
        "\n",
        "**Your Mission:** Analyze the diamond inventory data and provide insights to guide strategic decisions."
      ]
    },
    {
      "cell_type": "code",
      "execution_count": null,
      "metadata": {
        "colab": {
          "base_uri": "https://localhost:8080/"
        },
        "id": "degLl1Yh5yTQ",
        "outputId": "3dfb3dbf-b9d0-4078-b554-63b8ecb448fe"
      },
      "outputs": [
        {
          "output_type": "stream",
          "name": "stdout",
          "text": [
            "Loading diamonds dataset...\n",
            "Dataset loaded successfully!\n"
          ]
        }
      ],
      "source": [
        "import polars as pl\n",
        "\n",
        "# Load the diamonds dataset\n",
        "print(\"Loading diamonds dataset...\")\n",
        "df = pl.read_csv('https://raw.githubusercontent.com/pycaret/pycaret/master/datasets/diamond.csv')\n",
        "print(\"Dataset loaded successfully!\")"
      ]
    },
    {
      "cell_type": "markdown",
      "metadata": {
        "id": "mA_P06kO5yTS"
      },
      "source": [
        "## Section 1: Initial Inventory Assessment (5 minutes)\n",
        "\n",
        "The CEO walks in: \"Before we dive into specifics, I need to understand what we're working with. Give me the basics about our inventory database.\""
      ]
    },
    {
      "cell_type": "markdown",
      "metadata": {
        "id": "nzL9iHZu5yTT"
      },
      "source": [
        "### Question 1: \"How extensive is our inventory database?\"\n",
        "\n",
        "The CEO needs to know the scale of data you're analyzing."
      ]
    },
    {
      "cell_type": "code",
      "execution_count": null,
      "metadata": {
        "colab": {
          "base_uri": "https://localhost:8080/"
        },
        "id": "jHBuhtZu5yTT",
        "outputId": "48a7d57e-7993-430a-9240-235940cfe34b"
      },
      "outputs": [
        {
          "output_type": "stream",
          "name": "stdout",
          "text": [
            "Loading diamonds dataset...\n",
            "Dataset loaded successfully!\n",
            "Total inventory: 6000 diamonds\n"
          ]
        }
      ],
      "source": [
        "# Your code here:\n",
        "import polars as pl\n",
        "\n",
        "# Load the diamonds dataset\n",
        "print(\"Loading diamonds dataset...\")\n",
        "df = pl.read_csv('https://raw.githubusercontent.com/pycaret/pycaret/master/datasets/diamond.csv')\n",
        "print(\"Dataset loaded successfully!\")\n",
        "total_inventory = df.shape[0]\n",
        "print(f\"Total inventory: {total_inventory} diamonds\")"
      ]
    },
    {
      "cell_type": "markdown",
      "metadata": {
        "id": "11Ms74SU5yTT"
      },
      "source": [
        "### Question 2: \"What information do we track about each diamond?\"\n",
        "\n",
        "List all the characteristics we record."
      ]
    },
    {
      "cell_type": "code",
      "execution_count": null,
      "metadata": {
        "colab": {
          "base_uri": "https://localhost:8080/",
          "height": 252
        },
        "id": "UzNmcHlb5yTU",
        "outputId": "dd5d7a5e-53c2-4236-f2b2-064e57aed64f"
      },
      "outputs": [
        {
          "output_type": "execute_result",
          "data": {
            "text/plain": [
              "shape: (5, 8)\n",
              "┌──────────────┬───────┬───────┬─────────┬────────┬──────────┬────────┬───────┐\n",
              "│ Carat Weight ┆ Cut   ┆ Color ┆ Clarity ┆ Polish ┆ Symmetry ┆ Report ┆ Price │\n",
              "│ ---          ┆ ---   ┆ ---   ┆ ---     ┆ ---    ┆ ---      ┆ ---    ┆ ---   │\n",
              "│ f64          ┆ str   ┆ str   ┆ str     ┆ str    ┆ str      ┆ str    ┆ i64   │\n",
              "╞══════════════╪═══════╪═══════╪═════════╪════════╪══════════╪════════╪═══════╡\n",
              "│ 1.1          ┆ Ideal ┆ H     ┆ SI1     ┆ VG     ┆ EX       ┆ GIA    ┆ 5169  │\n",
              "│ 0.83         ┆ Ideal ┆ H     ┆ VS1     ┆ ID     ┆ ID       ┆ AGSL   ┆ 3470  │\n",
              "│ 0.85         ┆ Ideal ┆ H     ┆ SI1     ┆ EX     ┆ EX       ┆ GIA    ┆ 3183  │\n",
              "│ 0.91         ┆ Ideal ┆ E     ┆ SI1     ┆ VG     ┆ VG       ┆ GIA    ┆ 4370  │\n",
              "│ 0.83         ┆ Ideal ┆ G     ┆ SI1     ┆ EX     ┆ EX       ┆ GIA    ┆ 3171  │\n",
              "└──────────────┴───────┴───────┴─────────┴────────┴──────────┴────────┴───────┘"
            ],
            "text/html": [
              "<div><style>\n",
              ".dataframe > thead > tr,\n",
              ".dataframe > tbody > tr {\n",
              "  text-align: right;\n",
              "  white-space: pre-wrap;\n",
              "}\n",
              "</style>\n",
              "<small>shape: (5, 8)</small><table border=\"1\" class=\"dataframe\"><thead><tr><th>Carat Weight</th><th>Cut</th><th>Color</th><th>Clarity</th><th>Polish</th><th>Symmetry</th><th>Report</th><th>Price</th></tr><tr><td>f64</td><td>str</td><td>str</td><td>str</td><td>str</td><td>str</td><td>str</td><td>i64</td></tr></thead><tbody><tr><td>1.1</td><td>&quot;Ideal&quot;</td><td>&quot;H&quot;</td><td>&quot;SI1&quot;</td><td>&quot;VG&quot;</td><td>&quot;EX&quot;</td><td>&quot;GIA&quot;</td><td>5169</td></tr><tr><td>0.83</td><td>&quot;Ideal&quot;</td><td>&quot;H&quot;</td><td>&quot;VS1&quot;</td><td>&quot;ID&quot;</td><td>&quot;ID&quot;</td><td>&quot;AGSL&quot;</td><td>3470</td></tr><tr><td>0.85</td><td>&quot;Ideal&quot;</td><td>&quot;H&quot;</td><td>&quot;SI1&quot;</td><td>&quot;EX&quot;</td><td>&quot;EX&quot;</td><td>&quot;GIA&quot;</td><td>3183</td></tr><tr><td>0.91</td><td>&quot;Ideal&quot;</td><td>&quot;E&quot;</td><td>&quot;SI1&quot;</td><td>&quot;VG&quot;</td><td>&quot;VG&quot;</td><td>&quot;GIA&quot;</td><td>4370</td></tr><tr><td>0.83</td><td>&quot;Ideal&quot;</td><td>&quot;G&quot;</td><td>&quot;SI1&quot;</td><td>&quot;EX&quot;</td><td>&quot;EX&quot;</td><td>&quot;GIA&quot;</td><td>3171</td></tr></tbody></table></div>"
            ]
          },
          "metadata": {},
          "execution_count": 13
        }
      ],
      "source": [
        "# Your code here:\n",
        "df = pl.read_csv('https://raw.githubusercontent.com/pycaret/pycaret/master/datasets/diamond.csv')\n",
        "df.head()"
      ]
    },
    {
      "cell_type": "markdown",
      "metadata": {
        "id": "_CwPoP1r5yTU"
      },
      "source": [
        "### Question 3: \"When I look at one line in this database, what am I looking at?\"\n",
        "\n",
        "Explain in business terms:"
      ]
    },
    {
      "cell_type": "markdown",
      "metadata": {
        "id": "o0rGdyEo5yTU"
      },
      "source": [
        "**Your answer:** Each row represents: A grain, which shows the specific characteristics of a diamond."
      ]
    },
    {
      "cell_type": "markdown",
      "metadata": {
        "id": "AdhpZ8oZ5yTU"
      },
      "source": [
        "## Section 2: Strategic Business Questions (20 minutes)\n",
        "\n",
        "The CEO continues: \"Now let's get to the important questions. Our board meeting is tomorrow and I need concrete numbers.\""
      ]
    },
    {
      "cell_type": "markdown",
      "metadata": {
        "id": "fE4T8oaz5yTV"
      },
      "source": [
        "### Question 4: \"We're considering expanding our storage facilities. How many total carats do we have in inventory? I need to know if our vaults can handle the weight.\"\n",
        "\n",
        "Think about what measurement would help answer this."
      ]
    },
    {
      "cell_type": "code",
      "execution_count": null,
      "metadata": {
        "colab": {
          "base_uri": "https://localhost:8080/"
        },
        "id": "3PU2bBZM5yTV",
        "outputId": "fbc46fd0-b476-43b1-df4f-922c50cc5dbb"
      },
      "outputs": [
        {
          "output_type": "stream",
          "name": "stdout",
          "text": [
            "Total carats in inventory: 8007.120000000001 carats\n"
          ]
        }
      ],
      "source": [
        "# Your code here:\n",
        "total_carats = df['Carat Weight'].sum()\n",
        "print(f\"Total carats in inventory: {total_carats} carats\")"
      ]
    },
    {
      "cell_type": "markdown",
      "metadata": {
        "id": "Nh9ImXsu5yTV"
      },
      "source": [
        "### Question 5: \"Our new marketing campaign claims we have 'the widest variety of cuts in the industry.' Can you verify this?\"\n",
        "\n",
        "The CEO wants to know about variety, not quantity."
      ]
    },
    {
      "cell_type": "code",
      "execution_count": null,
      "metadata": {
        "colab": {
          "base_uri": "https://localhost:8080/"
        },
        "id": "lnlIF6Ov5yTW",
        "outputId": "3076db6d-1288-4f01-94ef-187f56f94c84"
      },
      "outputs": [
        {
          "output_type": "stream",
          "name": "stdout",
          "text": [
            "Total cuts in inventory: 5\n"
          ]
        }
      ],
      "source": [
        "# Your code here:\n",
        "total_cuts = df['Cut'].n_unique()\n",
        "print(f\"Total cuts in inventory: {total_cuts}\")"
      ]
    },
    {
      "cell_type": "markdown",
      "metadata": {
        "id": "eBnQFQ7b5yTW"
      },
      "source": [
        "### Question 6: \"I'm meeting with our insurance company. They need to know our price exposure - what's our most and least valuable diamond?\""
      ]
    },
    {
      "cell_type": "code",
      "execution_count": null,
      "metadata": {
        "colab": {
          "base_uri": "https://localhost:8080/",
          "height": 273
        },
        "id": "liSnXcCp5yTW",
        "outputId": "079d705e-ab0d-403a-d488-a77657b2552f"
      },
      "outputs": [
        {
          "output_type": "stream",
          "name": "stdout",
          "text": [
            "Most valuable diamond:\n"
          ]
        },
        {
          "output_type": "display_data",
          "data": {
            "text/plain": [
              "shape: (1, 8)\n",
              "┌──────────────┬───────┬───────┬─────────┬────────┬──────────┬────────┬────────┐\n",
              "│ Carat Weight ┆ Cut   ┆ Color ┆ Clarity ┆ Polish ┆ Symmetry ┆ Report ┆ Price  │\n",
              "│ ---          ┆ ---   ┆ ---   ┆ ---     ┆ ---    ┆ ---      ┆ ---    ┆ ---    │\n",
              "│ f64          ┆ str   ┆ str   ┆ str     ┆ str    ┆ str      ┆ str    ┆ i64    │\n",
              "╞══════════════╪═══════╪═══════╪═════════╪════════╪══════════╪════════╪════════╡\n",
              "│ 2.79         ┆ Ideal ┆ D     ┆ IF      ┆ EX     ┆ EX       ┆ GIA    ┆ 101561 │\n",
              "└──────────────┴───────┴───────┴─────────┴────────┴──────────┴────────┴────────┘"
            ],
            "text/html": [
              "<div><style>\n",
              ".dataframe > thead > tr,\n",
              ".dataframe > tbody > tr {\n",
              "  text-align: right;\n",
              "  white-space: pre-wrap;\n",
              "}\n",
              "</style>\n",
              "<small>shape: (1, 8)</small><table border=\"1\" class=\"dataframe\"><thead><tr><th>Carat Weight</th><th>Cut</th><th>Color</th><th>Clarity</th><th>Polish</th><th>Symmetry</th><th>Report</th><th>Price</th></tr><tr><td>f64</td><td>str</td><td>str</td><td>str</td><td>str</td><td>str</td><td>str</td><td>i64</td></tr></thead><tbody><tr><td>2.79</td><td>&quot;Ideal&quot;</td><td>&quot;D&quot;</td><td>&quot;IF&quot;</td><td>&quot;EX&quot;</td><td>&quot;EX&quot;</td><td>&quot;GIA&quot;</td><td>101561</td></tr></tbody></table></div>"
            ]
          },
          "metadata": {}
        },
        {
          "output_type": "stream",
          "name": "stdout",
          "text": [
            "Least valuable diamond:\n"
          ]
        },
        {
          "output_type": "display_data",
          "data": {
            "text/plain": [
              "shape: (1, 8)\n",
              "┌──────────────┬──────┬───────┬─────────┬────────┬──────────┬────────┬───────┐\n",
              "│ Carat Weight ┆ Cut  ┆ Color ┆ Clarity ┆ Polish ┆ Symmetry ┆ Report ┆ Price │\n",
              "│ ---          ┆ ---  ┆ ---   ┆ ---     ┆ ---    ┆ ---      ┆ ---    ┆ ---   │\n",
              "│ f64          ┆ str  ┆ str   ┆ str     ┆ str    ┆ str      ┆ str    ┆ i64   │\n",
              "╞══════════════╪══════╪═══════╪═════════╪════════╪══════════╪════════╪═══════╡\n",
              "│ 0.77         ┆ Good ┆ I     ┆ VS1     ┆ VG     ┆ G        ┆ AGSL   ┆ 2184  │\n",
              "└──────────────┴──────┴───────┴─────────┴────────┴──────────┴────────┴───────┘"
            ],
            "text/html": [
              "<div><style>\n",
              ".dataframe > thead > tr,\n",
              ".dataframe > tbody > tr {\n",
              "  text-align: right;\n",
              "  white-space: pre-wrap;\n",
              "}\n",
              "</style>\n",
              "<small>shape: (1, 8)</small><table border=\"1\" class=\"dataframe\"><thead><tr><th>Carat Weight</th><th>Cut</th><th>Color</th><th>Clarity</th><th>Polish</th><th>Symmetry</th><th>Report</th><th>Price</th></tr><tr><td>f64</td><td>str</td><td>str</td><td>str</td><td>str</td><td>str</td><td>str</td><td>i64</td></tr></thead><tbody><tr><td>0.77</td><td>&quot;Good&quot;</td><td>&quot;I&quot;</td><td>&quot;VS1&quot;</td><td>&quot;VG&quot;</td><td>&quot;G&quot;</td><td>&quot;AGSL&quot;</td><td>2184</td></tr></tbody></table></div>"
            ]
          },
          "metadata": {}
        }
      ],
      "source": [
        "# Your code here:\n",
        "import polars as pl\n",
        "\n",
        "df = pl.read_csv('https://raw.githubusercontent.com/pycaret/pycaret/master/datasets/diamond.csv')\n",
        "\n",
        "max_price_diamond = df.filter(pl.col('Price') == df['Price'].max())\n",
        "print(\"Most valuable diamond:\")\n",
        "display(max_price_diamond)\n",
        "\n",
        "min_price_diamond = df.filter(pl.col('Price') == df['Price'].min())\n",
        "print(\"Least valuable diamond:\")\n",
        "display(min_price_diamond)"
      ]
    },
    {
      "cell_type": "markdown",
      "metadata": {
        "id": "Y6rS_Xtm5yTX"
      },
      "source": [
        "### Question 7: \"Which color grades should we focus on in our premium line? I need typical prices across our color spectrum.\"\n",
        "\n",
        "The CEO wants to understand pricing patterns."
      ]
    },
    {
      "cell_type": "code",
      "execution_count": null,
      "metadata": {
        "colab": {
          "base_uri": "https://localhost:8080/",
          "height": 300
        },
        "id": "xX-usS5I5yTX",
        "outputId": "9d5f60d3-3112-4c7a-80b4-b5a732d923ca"
      },
      "outputs": [
        {
          "output_type": "stream",
          "name": "stdout",
          "text": [
            "Average price by color:\n"
          ]
        },
        {
          "output_type": "display_data",
          "data": {
            "text/plain": [
              "shape: (6, 2)\n",
              "┌───────┬──────────────┐\n",
              "│ Color ┆ Price        │\n",
              "│ ---   ┆ ---          │\n",
              "│ str   ┆ f64          │\n",
              "╞═══════╪══════════════╡\n",
              "│ D     ┆ 15255.783661 │\n",
              "│ E     ┆ 11539.190231 │\n",
              "│ H     ┆ 10487.347544 │\n",
              "│ I     ┆ 8989.636364  │\n",
              "│ G     ┆ 12520.050633 │\n",
              "│ F     ┆ 12712.241856 │\n",
              "└───────┴──────────────┘"
            ],
            "text/html": [
              "<div><style>\n",
              ".dataframe > thead > tr,\n",
              ".dataframe > tbody > tr {\n",
              "  text-align: right;\n",
              "  white-space: pre-wrap;\n",
              "}\n",
              "</style>\n",
              "<small>shape: (6, 2)</small><table border=\"1\" class=\"dataframe\"><thead><tr><th>Color</th><th>Price</th></tr><tr><td>str</td><td>f64</td></tr></thead><tbody><tr><td>&quot;D&quot;</td><td>15255.783661</td></tr><tr><td>&quot;E&quot;</td><td>11539.190231</td></tr><tr><td>&quot;H&quot;</td><td>10487.347544</td></tr><tr><td>&quot;I&quot;</td><td>8989.636364</td></tr><tr><td>&quot;G&quot;</td><td>12520.050633</td></tr><tr><td>&quot;F&quot;</td><td>12712.241856</td></tr></tbody></table></div>"
            ]
          },
          "metadata": {}
        }
      ],
      "source": [
        "# Your code here:\n",
        "color_counts = df.group_by(pl.col(\"Color\")).agg(pl.col(\"Price\").mean())\n",
        "print(\"Average price by color:\")\n",
        "display(color_counts)"
      ]
    },
    {
      "cell_type": "markdown",
      "metadata": {
        "id": "18m2Y2oS5yTX"
      },
      "source": [
        "**Reflection:** After analyzing by color, how has your view of the data changed? What does each row in your result represent now?"
      ]
    },
    {
      "cell_type": "markdown",
      "metadata": {
        "id": "Op0zhVvu5yTY"
      },
      "source": [
        "**Your answer:** New grain = Each row now represents each color grades with aggregated data for all diamonds in the category."
      ]
    },
    {
      "cell_type": "markdown",
      "metadata": {
        "id": "qVRDoqRG5yTY"
      },
      "source": [
        "## Section 3: Advanced Strategic Analysis (10 minutes)\n",
        "\n",
        "The CEO leans forward: \"These next questions will shape our strategy for next year.\""
      ]
    },
    {
      "cell_type": "markdown",
      "metadata": {
        "id": "S9IlWI-E5yTY"
      },
      "source": [
        "### Question 8: \"We're thinking of specializing in certain clarity grades. For our investor deck, I need a complete breakdown showing: how many diamonds we have in each clarity grade, their typical price, and the total carats we're holding for each grade.\""
      ]
    },
    {
      "cell_type": "code",
      "execution_count": null,
      "metadata": {
        "id": "noZrCZJc5yTY",
        "colab": {
          "base_uri": "https://localhost:8080/"
        },
        "outputId": "e9e5e85b-543f-43b9-f1c7-1dc746e15596"
      },
      "outputs": [
        {
          "output_type": "stream",
          "name": "stdout",
          "text": [
            "Dataset loaded successfully!\n",
            "Clarity Summary:\n",
            "shape: (7, 4)\n",
            "┌─────────┬───────────────┬───────────────┬──────────────┐\n",
            "│ Clarity ┆ diamond_count ┆ Average Price ┆ Total Carats │\n",
            "│ ---     ┆ ---           ┆ ---           ┆ ---          │\n",
            "│ str     ┆ u32           ┆ f64           ┆ f64          │\n",
            "╞═════════╪═══════════════╪═══════════════╪══════════════╡\n",
            "│ FL      ┆ 4             ┆ 63776.0       ┆ 7.87         │\n",
            "│ IF      ┆ 219           ┆ 22105.84      ┆ 316.0        │\n",
            "│ SI1     ┆ 2059          ┆ 8018.86       ┆ 2563.69      │\n",
            "│ VS1     ┆ 1192          ┆ 13694.11      ┆ 1682.74      │\n",
            "│ VS2     ┆ 1575          ┆ 11809.05      ┆ 2170.81      │\n",
            "│ VVS1    ┆ 285           ┆ 16845.68      ┆ 389.43       │\n",
            "│ VVS2    ┆ 666           ┆ 14142.18      ┆ 876.58       │\n",
            "└─────────┴───────────────┴───────────────┴──────────────┘\n"
          ]
        }
      ],
      "source": [
        "# Your code here:\n",
        "import polars as pl\n",
        "df = pl.read_csv(\"https://raw.githubusercontent.com/pycaret/pycaret/master/datasets/diamond.csv\")\n",
        "print(\"Dataset loaded successfully!\")\n",
        "\n",
        "clarity_summary = (\n",
        "    df.group_by(\"Clarity\")\n",
        "      .agg([\n",
        "          pl.len().alias(\"Diamond Count\"),\n",
        "          pl.col(\"Price\").mean().round(2).alias(\"Average Price\"),\n",
        "          pl.col(\"Carat Weight\").sum().round(2).alias(\"Total Carats\")\n",
        "      ])\n",
        "      .sort(\"Clarity\")\n",
        ")\n",
        "\n",
        "print(\"Clarity Summary:\")\n",
        "print(clarity_summary)"
      ]
    },
    {
      "cell_type": "markdown",
      "metadata": {
        "id": "pVfRuMVB5yTZ"
      },
      "source": [
        "### Question 9: \"My luxury competitor claims they have the best prices for every cut-color combination. Show me our pricing structure across these combinations - I want to see where we're competitive.\""
      ]
    },
    {
      "cell_type": "code",
      "execution_count": null,
      "metadata": {
        "id": "bdUqnwXU5yTZ",
        "colab": {
          "base_uri": "https://localhost:8080/"
        },
        "outputId": "387c004f-a80f-487a-f1f2-ef50c1631eb6"
      },
      "outputs": [
        {
          "output_type": "stream",
          "name": "stdout",
          "text": [
            "shape: (30, 4)\n",
            "┌─────────────────┬───────┬───────────────┬───────────────┐\n",
            "│ Cut             ┆ Color ┆ Diamond Count ┆ Average Price │\n",
            "│ ---             ┆ ---   ┆ ---           ┆ ---           │\n",
            "│ str             ┆ str   ┆ u32           ┆ f64           │\n",
            "╞═════════════════╪═══════╪═══════════════╪═══════════════╡\n",
            "│ Fair            ┆ D     ┆ 12            ┆ 6058.25       │\n",
            "│ Good            ┆ D     ┆ 74            ┆ 10058.72      │\n",
            "│ Ideal           ┆ D     ┆ 280           ┆ 18461.95      │\n",
            "│ Signature-Ideal ┆ D     ┆ 30            ┆ 19823.1       │\n",
            "│ Very Good       ┆ D     ┆ 265           ┆ 13218.83      │\n",
            "│ …               ┆ …     ┆ …             ┆ …             │\n",
            "│ Fair            ┆ I     ┆ 16            ┆ 4573.19       │\n",
            "│ Good            ┆ I     ┆ 115           ┆ 8174.11       │\n",
            "│ Ideal           ┆ I     ┆ 413           ┆ 9459.59       │\n",
            "│ Signature-Ideal ┆ I     ┆ 41            ┆ 8823.46       │\n",
            "│ Very Good       ┆ I     ┆ 383           ┆ 8930.03       │\n",
            "└─────────────────┴───────┴───────────────┴───────────────┘\n"
          ]
        }
      ],
      "source": [
        "# Your code here:\n",
        "\n",
        "pricing_summary = (\n",
        "    df.group_by([\"Cut\", \"Color\"])\n",
        "      .agg([\n",
        "          pl.len().alias(\"Diamond Count\"),\n",
        "          pl.col(\"Price\").mean().round(2).alias(\"Average Price\")\n",
        "      ])\n",
        "      .sort([\"Color\", \"Cut\"])\n",
        ")\n",
        "\n",
        "print(pricing_summary)"
      ]
    },
    {
      "cell_type": "markdown",
      "metadata": {
        "id": "DU_GODsQ5yTZ"
      },
      "source": [
        "**Reflection:** How specific is your analysis now? What level of detail does each row represent?"
      ]
    },
    {
      "cell_type": "markdown",
      "metadata": {
        "id": "UvrizLVh5yTZ"
      },
      "source": [
        "**Your answer:** New grain = The new grain is the unique cut-color combination of diamonds, with a diamond count and average price.  "
      ]
    },
    {
      "cell_type": "markdown",
      "metadata": {
        "id": "HGxFdCLT5yTa"
      },
      "source": [
        "### Question 10: URGENT - \"Our biggest client is interested in purchasing entire inventory segments. They asked: 'Which color-cut combinations represent your highest total inventory value?' Show me the top 5 most valuable inventory segments by total worth, and include how many diamonds are in each segment.\"\n",
        "\n",
        "This is critical for tomorrow's negotiation."
      ]
    },
    {
      "cell_type": "code",
      "execution_count": null,
      "metadata": {
        "id": "3kXoG15Z5yTa",
        "colab": {
          "base_uri": "https://localhost:8080/",
          "height": 269
        },
        "outputId": "6e0f9255-84e8-43fa-f036-85c94112e034"
      },
      "outputs": [
        {
          "output_type": "stream",
          "name": "stdout",
          "text": [
            "Top 5 most valuable inventory segments by total worth:\n"
          ]
        },
        {
          "output_type": "display_data",
          "data": {
            "text/plain": [
              "shape: (5, 4)\n",
              "┌───────────┬───────┬─────────────┬────────────────────┐\n",
              "│ Cut       ┆ Color ┆ Total Value ┆ Number of Diamonds │\n",
              "│ ---       ┆ ---   ┆ ---         ┆ ---                │\n",
              "│ str       ┆ str   ┆ i64         ┆ u32                │\n",
              "╞═══════════╪═══════╪═════════════╪════════════════════╡\n",
              "│ Ideal     ┆ G     ┆ 9363514     ┆ 690                │\n",
              "│ Very Good ┆ G     ┆ 7140620     ┆ 578                │\n",
              "│ Very Good ┆ F     ┆ 5648327     ┆ 455                │\n",
              "│ Ideal     ┆ F     ┆ 5346782     ┆ 363                │\n",
              "│ Ideal     ┆ H     ┆ 5279687     ┆ 458                │\n",
              "└───────────┴───────┴─────────────┴────────────────────┘"
            ],
            "text/html": [
              "<div><style>\n",
              ".dataframe > thead > tr,\n",
              ".dataframe > tbody > tr {\n",
              "  text-align: right;\n",
              "  white-space: pre-wrap;\n",
              "}\n",
              "</style>\n",
              "<small>shape: (5, 4)</small><table border=\"1\" class=\"dataframe\"><thead><tr><th>Cut</th><th>Color</th><th>Total Value</th><th>Number of Diamonds</th></tr><tr><td>str</td><td>str</td><td>i64</td><td>u32</td></tr></thead><tbody><tr><td>&quot;Ideal&quot;</td><td>&quot;G&quot;</td><td>9363514</td><td>690</td></tr><tr><td>&quot;Very Good&quot;</td><td>&quot;G&quot;</td><td>7140620</td><td>578</td></tr><tr><td>&quot;Very Good&quot;</td><td>&quot;F&quot;</td><td>5648327</td><td>455</td></tr><tr><td>&quot;Ideal&quot;</td><td>&quot;F&quot;</td><td>5346782</td><td>363</td></tr><tr><td>&quot;Ideal&quot;</td><td>&quot;H&quot;</td><td>5279687</td><td>458</td></tr></tbody></table></div>"
            ]
          },
          "metadata": {}
        }
      ],
      "source": [
        "# Your code here:\n",
        "total_value_by_cut_color = df.group_by(['Cut', 'Color']).agg([\n",
        "    pl.col('Price').sum().alias('Total Value'),\n",
        "    pl.len().alias('Number of Diamonds')\n",
        "]).sort('Total Value', descending=True).head(5)\n",
        "\n",
        "print(\"Top 5 most valuable inventory segments by total worth:\")\n",
        "display(total_value_by_cut_color)"
      ]
    },
    {
      "cell_type": "markdown",
      "metadata": {
        "id": "phRvO83R5yTa"
      },
      "source": [
        "## Debrief\n",
        "\n",
        "Congratulations! You've just completed your first day as the diamond company's data analyst.\n",
        "\n",
        "Remember:\n",
        "- CEOs speak in business language, not technical terms\n",
        "- Always understand what each row represents before analyzing\n",
        "- Business questions contain clues about which operations to use"
      ]
    }
  ],
  "metadata": {
    "kernelspec": {
      "display_name": "Python 3",
      "language": "python",
      "name": "python3"
    },
    "language_info": {
      "codemirror_mode": {
        "name": "ipython",
        "version": 3
      },
      "file_extension": ".py",
      "mimetype": "text/x-python",
      "name": "python",
      "nbconvert_exporter": "python",
      "pygments_lexer": "ipython3",
      "version": "3.12.0"
    },
    "colab": {
      "provenance": []
    }
  },
  "nbformat": 4,
  "nbformat_minor": 0
}